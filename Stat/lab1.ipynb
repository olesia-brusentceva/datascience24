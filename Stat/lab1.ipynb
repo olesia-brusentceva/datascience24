{
 "cells": [
  {
   "cell_type": "markdown",
   "metadata": {},
   "source": [
    "Problem 1"
   ]
  },
  {
   "cell_type": "code",
   "execution_count": 11,
   "metadata": {},
   "outputs": [],
   "source": [
    "import numpy as np\n",
    "from scipy.spatial import ConvexHull"
   ]
  },
  {
   "cell_type": "code",
   "execution_count": 2,
   "metadata": {},
   "outputs": [],
   "source": [
    "def generate_random_vectors(N):\n",
    "    \"\"\"\n",
    "    Generates N independent 3D random vectors.\n",
    "    - The first two coordinates follow an exponential distribution with parameter 1.\n",
    "    - The third coordinate follows a standard normal distribution.\n",
    "    \"\"\"\n",
    "    # First two coordinates: exponential distribution with lambda=1\n",
    "    coord1 = np.random.exponential(scale=1, size=N)\n",
    "    coord2 = np.random.exponential(scale=1, size=N)\n",
    "    \n",
    "    # Third coordinate: standard normal distribution\n",
    "    coord3 = np.random.normal(loc=0, scale=1, size=N)\n",
    "    \n",
    "    # Combine into a 3D array of shape (N, 3)\n",
    "    vectors = np.vstack((coord1, coord2, coord3)).T\n",
    "    return vectors\n"
   ]
  },
  {
   "cell_type": "code",
   "execution_count": 15,
   "metadata": {},
   "outputs": [
    {
     "name": "stdout",
     "output_type": "stream",
     "text": [
      "Generated Random Vectors:\n",
      "[[4.53464713 1.55674392 1.62471285]\n",
      " [0.66954061 1.33048193 0.61077981]\n",
      " [2.89768564 0.55935454 0.53435455]\n",
      " [1.74776186 2.85750174 0.08089001]\n",
      " [0.61237326 1.99812632 0.75655841]]\n"
     ]
    }
   ],
   "source": [
    "N = 5  # Number of vectors\n",
    "random_vectors = generate_random_vectors(N)\n",
    "print(\"Generated Random Vectors:\")\n",
    "print(random_vectors)"
   ]
  },
  {
   "cell_type": "markdown",
   "metadata": {},
   "source": [
    "Problem 2"
   ]
  },
  {
   "cell_type": "code",
   "execution_count": 12,
   "metadata": {},
   "outputs": [],
   "source": [
    "def find_separating_vector(vectors):\n",
    "    \"\"\"\n",
    "    Implements Kozinec's algorithm to find the separating vector for\n",
    "    the convex hull of the input 3D vectors.\n",
    "    - The function identifies separating planes by using the convex hull.\n",
    "    \"\"\"\n",
    "    # Compute the convex hull of the input vectors\n",
    "    hull = ConvexHull(vectors)\n",
    "    \n",
    "    # Extract the plane equations from the convex hull\n",
    "    # Each equation is of the form Ax + By + Cz + D = 0\n",
    "    separating_vectors = hull.equations[:, :-1]  # Extract only (A, B, C) from the equations\n",
    "    return separating_vectors\n"
   ]
  },
  {
   "cell_type": "code",
   "execution_count": 16,
   "metadata": {},
   "outputs": [
    {
     "name": "stdout",
     "output_type": "stream",
     "text": [
      "\n",
      "Separating Vectors (Normals to the Convex Hull Facets):\n",
      "[[-0.08401964  0.68212098  0.72639636]\n",
      " [ 0.51408637  0.08889807 -0.85311918]\n",
      " [-0.23472236 -0.22650337  0.94530505]\n",
      " [-0.1742496  -0.58219566  0.79415697]\n",
      " [-0.57643259  0.12689972 -0.80723103]\n",
      " [-0.11924281 -0.2492989  -0.96105734]]\n"
     ]
    }
   ],
   "source": [
    "separating_vectors = find_separating_vector(random_vectors)\n",
    "print(\"\\nSeparating Vectors (Normals to the Convex Hull Facets):\")\n",
    "print(separating_vectors)"
   ]
  },
  {
   "cell_type": "code",
   "execution_count": null,
   "metadata": {},
   "outputs": [],
   "source": []
  }
 ],
 "metadata": {
  "kernelspec": {
   "display_name": ".venv",
   "language": "python",
   "name": "python3"
  },
  "language_info": {
   "codemirror_mode": {
    "name": "ipython",
    "version": 3
   },
   "file_extension": ".py",
   "mimetype": "text/x-python",
   "name": "python",
   "nbconvert_exporter": "python",
   "pygments_lexer": "ipython3",
   "version": "3.12.6"
  }
 },
 "nbformat": 4,
 "nbformat_minor": 2
}
