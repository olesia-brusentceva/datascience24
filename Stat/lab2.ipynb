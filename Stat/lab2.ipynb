{
 "cells": [
  {
   "cell_type": "markdown",
   "metadata": {},
   "source": [
    "Problem 1"
   ]
  },
  {
   "cell_type": "code",
   "execution_count": 3,
   "metadata": {},
   "outputs": [],
   "source": [
    "import numpy as np"
   ]
  },
  {
   "cell_type": "code",
   "execution_count": 4,
   "metadata": {},
   "outputs": [],
   "source": [
    "def generate_normal_sequence(n, means):\n",
    "    \"\"\"\n",
    "    Generate a sequence of n independent normal random variables.\n",
    "    Each random variable has variance 1 and mean depending on the current state.\n",
    "    :param n: Number of random variables\n",
    "    :param means: A list of possible means [a0, a1, a2, a3] corresponding to states {0, 1, 2, 3}\n",
    "    :return: A list of generated random variables and their states\n",
    "    \"\"\"\n",
    "    states = [0, 1, 2, 3]  # Possible states\n",
    "    state_probs = [(k + 1) / 10 for k in states]  # Transition probabilities\n",
    "    \n",
    "    sequence = []\n",
    "    current_state = np.random.choice(states, p=state_probs)  # Start in a random state\n",
    "    for _ in range(n):\n",
    "        mean = means[current_state]\n",
    "        value = np.random.normal(loc=mean, scale=1)  # Generate normal random variable\n",
    "        sequence.append((value, current_state))\n",
    "        \n",
    "        # Transition to next state\n",
    "        current_state = np.random.choice(states, p=state_probs)\n",
    "    \n",
    "    return sequence"
   ]
  },
  {
   "cell_type": "code",
   "execution_count": 5,
   "metadata": {},
   "outputs": [
    {
     "name": "stdout",
     "output_type": "stream",
     "text": [
      "Generated Sequence:\n",
      "Value: 1.97, State: 3\n",
      "Value: 0.91, State: 0\n",
      "Value: 1.55, State: 0\n",
      "Value: 1.77, State: 1\n",
      "Value: -0.32, State: 2\n",
      "Value: 0.69, State: 0\n",
      "Value: 3.08, State: 3\n",
      "Value: 1.53, State: 1\n",
      "Value: -0.57, State: 0\n",
      "Value: 2.38, State: 3\n"
     ]
    }
   ],
   "source": [
    "n = 100  # Number of variables\n",
    "means = [0, 1, 2, 3]  # Means corresponding to states {0, 1, 2, 3}\n",
    "generated_sequence = generate_normal_sequence(n, means)\n",
    "print(\"Generated Sequence:\")\n",
    "for value, state in generated_sequence[:10]:  # Print first 10 for brevity\n",
    "    print(f\"Value: {value:.2f}, State: {state}\")"
   ]
  },
  {
   "cell_type": "markdown",
   "metadata": {},
   "source": [
    "Problem 2"
   ]
  },
  {
   "cell_type": "code",
   "execution_count": 6,
   "metadata": {},
   "outputs": [],
   "source": [
    "def self_consistency_algorithm(sequence, tolerance=0.001, max_iter=1000):\n",
    "    \"\"\"\n",
    "    Estimate the probabilities p_k(k) and parameters a_k using a self-consistency algorithm.\n",
    "    :param sequence: Generated sequence of random variables and their states\n",
    "    :param tolerance: Convergence threshold\n",
    "    :param max_iter: Maximum number of iterations\n",
    "    :return: Estimated probabilities and means\n",
    "    \"\"\"\n",
    "    states = [0, 1, 2, 3]\n",
    "    n = len(sequence)\n",
    "    values, observed_states = zip(*sequence)\n",
    "    values = np.array(values)\n",
    "    \n",
    "    # Initialize parameters\n",
    "    p_k = np.ones(len(states)) / len(states)  # Equal probabilities\n",
    "    a_k = np.random.uniform(low=0, high=3, size=len(states))  # Random initialization of means\n",
    "    \n",
    "    for iteration in range(max_iter):\n",
    "        prev_a_k = a_k.copy()\n",
    "        prev_p_k = p_k.copy()\n",
    "        \n",
    "        # E-step: Compute responsibilities (posterior probabilities)\n",
    "        responsibilities = np.zeros((n, len(states)))\n",
    "        for i, state in enumerate(states):\n",
    "            responsibilities[:, i] = (\n",
    "                p_k[state] * np.exp(-(values - a_k[state])**2 / 2)\n",
    "            )\n",
    "        responsibilities /= responsibilities.sum(axis=1, keepdims=True)\n",
    "        \n",
    "        # M-step: Update p_k and a_k\n",
    "        for state in states:\n",
    "            weight = responsibilities[:, state].sum()\n",
    "            a_k[state] = (responsibilities[:, state] @ values) / weight\n",
    "            p_k[state] = weight / n\n",
    "        \n",
    "        # Check for convergence\n",
    "        if np.max(np.abs(a_k - prev_a_k)) < tolerance and np.max(np.abs(p_k - prev_p_k)) < tolerance:\n",
    "            print(f\"Converged in {iteration} iterations.\")\n",
    "            break\n",
    "    \n",
    "    return p_k, a_k"
   ]
  },
  {
   "cell_type": "code",
   "execution_count": 7,
   "metadata": {},
   "outputs": [
    {
     "name": "stdout",
     "output_type": "stream",
     "text": [
      "Converged in 166 iterations.\n",
      "\n",
      "Estimated Probabilities p_k(k): [0.01413448 0.30820252 0.49466253 0.18300047]\n",
      "Estimated Means a_k: [-1.85138747  1.11260641  3.01263097  1.45973952]\n"
     ]
    }
   ],
   "source": [
    "estimated_p_k, estimated_a_k = self_consistency_algorithm(generated_sequence)\n",
    "print(\"\\nEstimated Probabilities p_k(k):\", estimated_p_k)\n",
    "print(\"Estimated Means a_k:\", estimated_a_k)"
   ]
  },
  {
   "cell_type": "markdown",
   "metadata": {},
   "source": [
    "Problem 3"
   ]
  },
  {
   "cell_type": "code",
   "execution_count": 8,
   "metadata": {},
   "outputs": [],
   "source": [
    "def analyze_algorithm(n_list, initial_p_k, initial_a_k):\n",
    "    \"\"\"\n",
    "    Analyze the behavior of the algorithm for different n and initial estimates.\n",
    "    :param n_list: List of sequence lengths to analyze\n",
    "    :param initial_p_k: Initial estimates of probabilities\n",
    "    :param initial_a_k: Initial estimates of means\n",
    "    \"\"\"\n",
    "    results = []\n",
    "    for n in n_list:\n",
    "        sequence = generate_normal_sequence(n, initial_a_k)\n",
    "        p_k, a_k = self_consistency_algorithm(sequence)\n",
    "        results.append((n, p_k, a_k))\n",
    "    \n",
    "    # Print results\n",
    "    for n, p_k, a_k in results:\n",
    "        print(f\"\\nFor n = {n}:\")\n",
    "        print(\"Estimated Probabilities p_k(k):\", p_k)\n",
    "        print(\"Estimated Means a_k:\", a_k)"
   ]
  },
  {
   "cell_type": "code",
   "execution_count": 9,
   "metadata": {},
   "outputs": [
    {
     "name": "stdout",
     "output_type": "stream",
     "text": [
      "Converged in 71 iterations.\n",
      "Converged in 59 iterations.\n",
      "Converged in 58 iterations.\n",
      "\n",
      "For n = 50:\n",
      "Estimated Probabilities p_k(k): [0.44962906 0.16422291 0.18935442 0.19679361]\n",
      "Estimated Means a_k: [3.09854634 2.68998974 0.91013484 0.91013484]\n",
      "\n",
      "For n = 100:\n",
      "Estimated Probabilities p_k(k): [0.18666231 0.31926144 0.30678492 0.18729133]\n",
      "Estimated Means a_k: [1.74533275 0.40930104 2.83546128 1.77696971]\n",
      "\n",
      "For n = 200:\n",
      "Estimated Probabilities p_k(k): [0.21618018 0.2877233  0.28121221 0.21488431]\n",
      "Estimated Means a_k: [1.79977677 1.1552972  3.65663312 1.80823543]\n"
     ]
    }
   ],
   "source": [
    "n_list = [50, 100, 200]\n",
    "initial_p_k = [0.25, 0.25, 0.25, 0.25]  # Equal probabilities\n",
    "initial_a_k = [0, 1, 2, 3]  # True means\n",
    "analyze_algorithm(n_list, initial_p_k, initial_a_k)"
   ]
  }
 ],
 "metadata": {
  "kernelspec": {
   "display_name": ".venv",
   "language": "python",
   "name": "python3"
  },
  "language_info": {
   "codemirror_mode": {
    "name": "ipython",
    "version": 3
   },
   "file_extension": ".py",
   "mimetype": "text/x-python",
   "name": "python",
   "nbconvert_exporter": "python",
   "pygments_lexer": "ipython3",
   "version": "3.12.6"
  }
 },
 "nbformat": 4,
 "nbformat_minor": 2
}
